{
  "nbformat": 4,
  "nbformat_minor": 0,
  "metadata": {
    "colab": {
      "name": "TelegramBotPhotos.ipynb",
      "provenance": [],
      "collapsed_sections": [],
      "mount_file_id": "17-DpVW9tA7IlmkkoXhZzap2rOBxkLRzR",
      "authorship_tag": "ABX9TyPkZKM1bfSbme/4SkP0OBo7",
      "include_colab_link": true
    },
    "kernelspec": {
      "name": "python3",
      "display_name": "Python 3"
    },
    "language_info": {
      "name": "python"
    }
  },
  "cells": [
    {
      "cell_type": "markdown",
      "metadata": {
        "id": "view-in-github",
        "colab_type": "text"
      },
      "source": [
        "<a href=\"https://colab.research.google.com/github/mohamedbahaa2001/mohamedbahaa2001/blob/main/TelegramBotPhotos.ipynb\" target=\"_parent\"><img src=\"https://colab.research.google.com/assets/colab-badge.svg\" alt=\"Open In Colab\"/></a>"
      ]
    },
    {
      "cell_type": "code",
      "metadata": {
        "id": "jJspk-uD1boj",
        "colab": {
          "base_uri": "https://localhost:8080/"
        },
        "outputId": "d36316ed-de5f-43e0-97c6-7e14eeafb93e"
      },
      "source": [
        "import cv2\n",
        "from telegram.ext import *\n",
        "import numpy as np\n",
        "from io import BytesIO\n",
        "import tensorflow as tf\n",
        "\n",
        "token = \"1992318232:AAHgMQxp7XFJS_RXHkt3dskRsdh9vmUSoD0\"\n",
        "\n",
        "(x_train, y_train), (x_test, y_test) = tf.keras.datasets.cifar10.load_data()\n",
        "x_train, x_test = x_train / 255, x_test / 255\n",
        "\n",
        "class_names = ['Plane', 'Car', 'Bird', 'Cat', 'Deer', 'Dog', 'Frog', 'Horse', 'Ship', 'Truck']\n",
        "\n",
        "model = tf.keras.models.Sequential()\n",
        "model.add(tf.keras.layers.Conv2D(32, (3, 3), activation='relu', input_shape=(32, 32, 3)))\n",
        "model.add(tf.keras.layers.MaxPooling2D((2, 2)))\n",
        "model.add(tf.keras.layers.Conv2D(64, (3, 3), activation='relu'))\n",
        "model.add(tf.keras.layers.MaxPooling2D((2, 2)))\n",
        "model.add(tf.keras.layers.Conv2D(64, (3, 3), activation='relu'))\n",
        "model.add(tf.keras.layers.Flatten())\n",
        "model.add(tf.keras.layers.Dense(64, activation='relu'))\n",
        "model.add(tf.keras.layers.Dense(10, activation='softmax'))\n",
        "\n",
        "\n",
        "def start(update, context):\n",
        "    update.message.reply_text(\"Welcome Bro, This bot is fully made by Mohamed Bahaa the genius :D\")\n",
        "\n",
        "\n",
        "def help(update, context):\n",
        "    update.message.reply_text(\"\"\"\n",
        "    /start - starts conversation\n",
        "    /help - shows this message\n",
        "    /train - Trains the nural netwrok\n",
        "    \"\"\")\n",
        "\n",
        "\n",
        "def train(update, context):\n",
        "    update.message.reply_text(\"Model is being trained....\")\n",
        "    model.compile(optimizer='adam', loss='sparse_categorical_crossentropy', metrics=['accuracy'])\n",
        "    model.fit(x_train, y_train, epochs=10, validation_data=(x_test, y_test))\n",
        "    model.save('cifar_calssifier.model')\n",
        "    update.message.reply_text(\"Done training you can now send a photo :D\")\n",
        "\n",
        "\n",
        "def handle_message(update, context):\n",
        "    update.message.reply_text(\"please train the model and send a picture! \")\n",
        "\n",
        "\n",
        "def handle_photo(update, context):\n",
        "    file = context.bot.get_file(update.message.photo[-1].file_id)\n",
        "    f = BytesIO(file.download_as_bytearray())\n",
        "    file_byte = np.asarray(bytearray(f.read()), dtype=np.uint8)\n",
        "    img = cv2.imdecode(file_byte, cv2.IMREAD_COLOR)\n",
        "    img = cv2.cvtColor(img, cv2.COLOR_RGB2BGR)\n",
        "    img = cv2.resize(img, (32, 32), interpolation=cv2.INTER_AREA)\n",
        "    prediction = model.predict(np.array([img / 255]))\n",
        "    update.message.reply_text(f\"In this image I see a {class_names[np.argmax(prediction)]}\")\n",
        "\n",
        "\n",
        "updater = Updater(token, use_context=True)\n",
        "db = updater.dispatcher\n",
        "\n",
        "db.add_handler(CommandHandler(\"start\", start))\n",
        "db.add_handler(CommandHandler(\"help\", help))\n",
        "db.add_handler(CommandHandler(\"train\", train))\n",
        "db.add_handler(MessageHandler(Filters.text, handle_message))\n",
        "db.add_handler(MessageHandler(Filters.photo, handle_photo))\n",
        "\n",
        "updater.start_polling()\n",
        "updater.idle()\n"
      ],
      "execution_count": 4,
      "outputs": [
        {
          "output_type": "stream",
          "text": [
            "Epoch 1/10\n",
            "1563/1563 [==============================] - 80s 51ms/step - loss: 1.5428 - accuracy: 0.4398 - val_loss: 1.3534 - val_accuracy: 0.5182\n",
            "Epoch 2/10\n",
            "1563/1563 [==============================] - 76s 49ms/step - loss: 1.1935 - accuracy: 0.5739 - val_loss: 1.1242 - val_accuracy: 0.6033\n",
            "Epoch 3/10\n",
            "1563/1563 [==============================] - 75s 48ms/step - loss: 1.0461 - accuracy: 0.6296 - val_loss: 1.0125 - val_accuracy: 0.6450\n",
            "Epoch 4/10\n",
            "1563/1563 [==============================] - 77s 49ms/step - loss: 0.9514 - accuracy: 0.6660 - val_loss: 0.9877 - val_accuracy: 0.6497\n",
            "Epoch 5/10\n",
            "1563/1563 [==============================] - 75s 48ms/step - loss: 0.8751 - accuracy: 0.6926 - val_loss: 0.9906 - val_accuracy: 0.6548\n",
            "Epoch 6/10\n",
            "1563/1563 [==============================] - 76s 48ms/step - loss: 0.8208 - accuracy: 0.7108 - val_loss: 0.9218 - val_accuracy: 0.6837\n",
            "Epoch 7/10\n",
            "1563/1563 [==============================] - 74s 47ms/step - loss: 0.7694 - accuracy: 0.7279 - val_loss: 0.9204 - val_accuracy: 0.6830\n",
            "Epoch 8/10\n",
            "1563/1563 [==============================] - 74s 48ms/step - loss: 0.7265 - accuracy: 0.7457 - val_loss: 0.8821 - val_accuracy: 0.7016\n",
            "Epoch 9/10\n",
            "1563/1563 [==============================] - 75s 48ms/step - loss: 0.6859 - accuracy: 0.7585 - val_loss: 0.9134 - val_accuracy: 0.6887\n",
            "Epoch 10/10\n",
            "1563/1563 [==============================] - 77s 49ms/step - loss: 0.6591 - accuracy: 0.7686 - val_loss: 0.9211 - val_accuracy: 0.6911\n",
            "INFO:tensorflow:Assets written to: cifar_calssifier.model/assets\n"
          ],
          "name": "stdout"
        }
      ]
    },
    {
      "cell_type": "code",
      "metadata": {
        "id": "1N7eQ73Q6l8f"
      },
      "source": [
        ""
      ],
      "execution_count": null,
      "outputs": []
    }
  ]
}